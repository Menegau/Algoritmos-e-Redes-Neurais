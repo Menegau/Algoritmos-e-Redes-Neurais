{
 "cells": [
  {
   "cell_type": "markdown",
   "metadata": {},
   "source": [
    "Descobrindo a senha\n",
    "===================\n",
    "\n"
   ]
  },
  {
   "cell_type": "markdown",
   "metadata": {},
   "source": [
    "## Objetivo\n",
    "\n"
   ]
  },
  {
   "cell_type": "markdown",
   "metadata": {},
   "source": [
    "Usar um algoritmo genético para descobrir uma senha.\n",
    "\n"
   ]
  },
  {
   "cell_type": "markdown",
   "metadata": {},
   "source": [
    "## Descrição do problema\n",
    "\n"
   ]
  },
  {
   "cell_type": "markdown",
   "metadata": {},
   "source": [
    "Neste problema, a função objetivo deve saber a senha correta e quantificar de alguma maneira o quão perto ou longe os palpites estão da solução (veja que isso é algo que não temos no mundo real. Nenhum site irá te dizer se você está acertando ou errando seu palpite). O critério de parada deste problema é quando a senha for descoberta.\n",
    "\n"
   ]
  },
  {
   "cell_type": "markdown",
   "metadata": {},
   "source": [
    "## Importações\n",
    "\n"
   ]
  },
  {
   "cell_type": "code",
   "execution_count": 1,
   "metadata": {},
   "outputs": [],
   "source": [
    "from funcoes import populacao_inicial_senha\n",
    "from funcoes import funcao_objetivo_pop_senha\n",
    "from funcoes import selecao_torneio_min\n",
    "from funcoes import cruzamento_ponto_simples as funcao_cruzamento\n",
    "from funcoes import mutacao_senha\n",
    "import random"
   ]
  },
  {
   "cell_type": "markdown",
   "metadata": {},
   "source": [
    "## Códigos e discussão\n",
    "\n"
   ]
  },
  {
   "cell_type": "code",
   "execution_count": 2,
   "metadata": {},
   "outputs": [],
   "source": [
    "### CONSTANTES\n",
    "\n",
    "# relacionadas à busca\n",
    "TAMANHO_POP = 50\n",
    "NUM_GERACOES = 2000\n",
    "CHANCE_CRUZAMENTO = 0.5\n",
    "CHANCE_MUTACAO = 0.05\n",
    "NUM_COMBATENTES_NO_TORNEIO = 3\n",
    "\n",
    "# relacionadas ao problema a ser resulvido\n",
    "SENHA = \"correcthorsebatterystaple\"\n",
    "LETRAS_POSSIVEIS = \"abcdefghijklmnopqrstuvwxyz\"\n",
    "NUM_GENES = len(SENHA)"
   ]
  },
  {
   "cell_type": "code",
   "execution_count": 3,
   "metadata": {},
   "outputs": [],
   "source": [
    "# funções locais\n",
    "\n",
    "def cria_populacao_inicial(tamanho, tamanho_senha):\n",
    "    return populacao_inicial_senha(tamanho, tamanho_senha, LETRAS_POSSIVEIS)\n",
    "\n",
    "def funcao_objetivo_pop(populacao):\n",
    "    return funcao_objetivo_pop_senha(populacao, SENHA)\n",
    "\n",
    "def funcao_selecao(populacao, fitness):\n",
    "    return selecao_torneio_min(populacao, fitness, NUM_COMBATENTES_NO_TORNEIO)\n",
    "\n",
    "def funcao_mutacao(individuo):\n",
    "    return mutacao_senha(individuo, LETRAS_POSSIVEIS)"
   ]
  },
  {
   "cell_type": "code",
   "execution_count": 4,
   "metadata": {},
   "outputs": [
    {
     "name": "stdout",
     "output_type": "stream",
     "text": [
      "Progresso da melhor senha já vista:\n",
      "amnisashisjlimidauyyohpds - fitness: 150\n",
      "amnisashisjlimidauyyohpdg - fitness: 138\n",
      "ylfeefxtnqtahbysmotrwekkp - fitness: 130\n",
      "alrkkcuczixnayuuauyrldgzg - fitness: 129\n",
      "hgovonxtnqtahbysmotrwekkp - fitness: 118\n",
      "alrkkcxtnqtahbysmotrwekkp - fitness: 95\n",
      "alrkkcucnqtahbysmotrwekkp - fitness: 85\n",
      "alrkkcuczqtahbuuauyrwekkp - fitness: 82\n",
      "alrkkcucnqtahbysmotrwekke - fitness: 74\n",
      "alrkkcucnqtnabyskotrwekke - fitness: 72\n",
      "alrkkcucnqtnabysmuyywepke - fitness: 69\n",
      "alrkkcucnqtnabysmuyrwepke - fitness: 64\n",
      "alrkkcucnqtaabysmotrwcpke - fitness: 62\n",
      "alrkkcucnqtaabysmoxrwcpke - fitness: 58\n",
      "alrkkcucnqtaabysmuyrwcpke - fitness: 57\n",
      "alrkkcuinqtaabysmoxrwcpke - fitness: 54\n",
      "alrkkcuinqtaabysmuyrwcpke - fitness: 53\n",
      "alrkecuinqtaabysmuyrwcpke - fitness: 47\n",
      "aorkecuinqtaabysmuyrwcpke - fitness: 44\n",
      "alrkecuinqtaabysauyrwcpke - fitness: 43\n",
      "aorkecuinqtaabysauyrwcpke - fitness: 40\n",
      "aorkecuinqtaabssauyrwcpke - fitness: 36\n",
      "aoruecuinqtaabssauyrwcpke - fitness: 32\n",
      "aoruecuinqtaabssaryrwcpke - fitness: 29\n",
      "aorrecuinqtaabssaryrwcpke - fitness: 26\n",
      "aorrecuinqtaabssgryrwcpke - fitness: 24\n",
      "aorrecuinqtabbssgryrwcpke - fitness: 23\n",
      "aorrecuinqtcabssgryrwcpke - fitness: 22\n",
      "aorrecuinqtcabssfryrwcpke - fitness: 21\n",
      "aorrecuinqtdabssfryrwcpke - fitness: 20\n",
      "dorrecuinqtdabssfryrwcpke - fitness: 19\n",
      "dorrecuioqtdabssfryrwcpke - fitness: 18\n",
      "dorrecuioqtdabssfryrwapke - fitness: 16\n",
      "dorrecuioqtdabssfryrwaple - fitness: 15\n",
      "dorrectioqtdabssfryrwaple - fitness: 14\n",
      "dorrectioqtdbbssfryrwaple - fitness: 13\n",
      "correctioqtdbbssfryrwaple - fitness: 12\n",
      "correctioqtdbbssfryswaple - fitness: 11\n",
      "correctioqtdbbssfrystaple - fitness: 8\n",
      "correctioqtdbbsserystaple - fitness: 7\n",
      "correctioqtdbasserystaple - fitness: 6\n",
      "correctioqtebasserystaple - fitness: 5\n",
      "correcthoqtebasserystaple - fitness: 4\n",
      "correcthoqsebasserystaple - fitness: 3\n",
      "correcthoqsebasterystaple - fitness: 2\n",
      "correcthorsebasterystaple - fitness: 1\n",
      "\n",
      "Melhor palpite da senha encontrado:\n",
      "correcthorsebasterystaple\n"
     ]
    }
   ],
   "source": [
    "populacao = cria_populacao_inicial(TAMANHO_POP, NUM_GENES)\n",
    "\n",
    "melhor_fitness_ja_visto = float(\"inf\")  # é assim que escrevemos infinito em python\n",
    "\n",
    "print(\"Progresso da melhor senha já vista:\")\n",
    "\n",
    "for n in range(NUM_GERACOES):    \n",
    "    \n",
    "    # Seleção\n",
    "    fitness = funcao_objetivo_pop(populacao)\n",
    "    populacao = funcao_selecao(populacao, fitness)\n",
    "    \n",
    "    # Cruzamento\n",
    "    pais = populacao[0::2]\n",
    "    maes = populacao[1::2]\n",
    "    \n",
    "    contador = 0\n",
    "    \n",
    "    for pai, mae in zip(pais, maes):\n",
    "        if random.random() <= CHANCE_CRUZAMENTO:\n",
    "            filho1, filho2 = funcao_cruzamento(pai, mae)\n",
    "            populacao[contador] = filho1\n",
    "            populacao[contador + 1] = filho2\n",
    "        \n",
    "        contador = contador + 2   \n",
    "        \n",
    "    # Mutação\n",
    "    for n in range(len(populacao)):\n",
    "        if random.random() <= CHANCE_MUTACAO:\n",
    "            individuo = populacao[n]\n",
    "            populacao[n] = funcao_mutacao(individuo)            \n",
    "            \n",
    "    # melhor individuo já visto até agora\n",
    "    fitness = funcao_objetivo_pop(populacao)\n",
    "    menor_fitness = min(fitness)\n",
    "    if menor_fitness < melhor_fitness_ja_visto:        \n",
    "        posicao = fitness.index(menor_fitness)\n",
    "        melhor_individuo_ja_visto = populacao[posicao]\n",
    "        melhor_fitness_ja_visto = menor_fitness\n",
    "        print(\"\".join(melhor_individuo_ja_visto), \"- fitness:\", melhor_fitness_ja_visto)\n",
    "\n",
    "print()\n",
    "print(\"Melhor palpite da senha encontrado:\")\n",
    "print(\"\".join(melhor_individuo_ja_visto))\n"
   ]
  },
  {
   "cell_type": "markdown",
   "metadata": {
    "jp-MarkdownHeadingCollapsed": true,
    "tags": []
   },
   "source": [
    "## Conclusão\n",
    "\n",
    "Esse experimento foi o mais trabalhoso que teve até agora, sendo até a premissa do problema muito mais complexo do que dos experimentos anteriores. O interessante dele, na minha opinião, é que conseguimos avaliar uma distância entre os indivíduos (senhas testadas) com a senha real, e fazemos isso ordenando os caracteres com números. Dessa maneira, transformamos o problema de comparar distância de letras para comparar a distância com números. Isso é super útil no que tange programação com problemas que envolvem sentenças e palavras com letras. Esse código, por ser um problema de algorítmo genético, também é probabilistico.\n",
    "Outra coisa importante que aprendemos foi a função de rodeio, a qual compara todos os indivíduos para definir realmente os mais promissores e os piores candidatos. Com isso, podemos cruzar os melhores candidatos de maneira a buscar a solução de maneira mais eficiente."
   ]
  },
  {
   "cell_type": "markdown",
   "metadata": {},
   "source": [
    "## Playground\n",
    "\n"
   ]
  },
  {
   "cell_type": "code",
   "execution_count": null,
   "metadata": {},
   "outputs": [],
   "source": []
  }
 ],
 "metadata": {
  "kernelspec": {
   "display_name": "ilumpy",
   "language": "python",
   "name": "ilumpy"
  },
  "language_info": {
   "codemirror_mode": {
    "name": "ipython",
    "version": 3
   },
   "file_extension": ".py",
   "mimetype": "text/x-python",
   "name": "python",
   "nbconvert_exporter": "python",
   "pygments_lexer": "ipython3",
   "version": "3.9.7"
  },
  "org": null
 },
 "nbformat": 4,
 "nbformat_minor": 4
}
