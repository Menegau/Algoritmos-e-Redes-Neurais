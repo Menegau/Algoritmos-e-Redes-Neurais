{
 "cells": [
  {
   "cell_type": "markdown",
   "metadata": {},
   "source": [
    "Problema das caixas não-binárias\n",
    "================================\n",
    "\n"
   ]
  },
  {
   "cell_type": "markdown",
   "metadata": {},
   "source": [
    "## Objetivo\n",
    "\n"
   ]
  },
  {
   "cell_type": "markdown",
   "metadata": {},
   "source": [
    "Encontrar uma solução para o problema das caixas não-binárias usando um algoritmo genético. Considere 4 caixas. Considere que cada caixa pode ter um valor inteiro dentro do conjunto [0, 100].\n",
    "\n"
   ]
  },
  {
   "cell_type": "markdown",
   "metadata": {},
   "source": [
    "## Descrição do problema\n",
    "\n"
   ]
  },
  {
   "cell_type": "markdown",
   "metadata": {},
   "source": [
    "O problema das caixas não-binárias é simples: nós temos um certo número de caixas e cada uma pode conter um número inteiro. O objetivo é encontrar uma combinação de caixas onde a soma dos valores contidos dentro delas é máximo.\n",
    "\n"
   ]
  },
  {
   "cell_type": "markdown",
   "metadata": {},
   "source": [
    "## Importações\n",
    "\n"
   ]
  },
  {
   "cell_type": "code",
   "execution_count": 1,
   "metadata": {},
   "outputs": [],
   "source": [
    "from funcoes import populacao_cnb\n",
    "from funcoes import funcao_objetivo_pop_cnb as funcao_objetivo_pop_cb\n",
    "from funcoes import selecao_roleta_max as funcao_selecao\n",
    "from funcoes import cruzamento_ponto_simples as funcao_cruzamento\n",
    "from funcoes import mutacao_cnb\n",
    "from funcoes import gene_cnb\n",
    "import random"
   ]
  },
  {
   "cell_type": "markdown",
   "metadata": {},
   "source": [
    "## Códigos e discussão\n",
    "\n"
   ]
  },
  {
   "cell_type": "code",
   "execution_count": 5,
   "metadata": {},
   "outputs": [],
   "source": [
    "# Constantes\n",
    "\n",
    "TAMANHO_POP = 20\n",
    "NUM_GENES = 4\n",
    "NUM_GERACOES = 40\n",
    "CHANCE_CRUZAMENTO = 0.5\n",
    "CHANCE_MUTACAO = 0.05\n",
    "\n",
    "# relacionadas ao problema a ser resolvido\n",
    "VALOR_MAX_CAIXA = 100\n",
    "NUM_GENES = 4"
   ]
  },
  {
   "cell_type": "code",
   "execution_count": 6,
   "metadata": {},
   "outputs": [],
   "source": [
    "# Funções Locais\n",
    "def cria_populacao_inicial(tamanho, numero_genes):\n",
    "    return populacao_cnb(tamanho, numero_genes, VALOR_MAX_CAIXA)\n",
    "\n",
    "def funcao_mutacao(individuo):\n",
    "    return mutacao_cnb(individuo, VALOR_MAX_CAIXA)"
   ]
  },
  {
   "cell_type": "code",
   "execution_count": 7,
   "metadata": {},
   "outputs": [
    {
     "name": "stdout",
     "output_type": "stream",
     "text": [
      "População inicial:\n",
      "[[95, 64, 23, 49], [48, 7, 39, 75], [74, 16, 66, 61], [38, 3, 50, 75], [30, 97, 55, 47], [54, 86, 53, 15], [55, 13, 32, 10], [64, 90, 84, 34], [24, 42, 58, 3], [67, 58, 15, 31], [97, 83, 30, 34], [57, 15, 60, 61], [0, 26, 43, 5], [37, 23, 8, 90], [92, 93, 11, 45], [80, 62, 62, 12], [30, 41, 84, 87], [90, 38, 76, 93], [75, 95, 1, 14], [85, 19, 84, 98]]\n",
      "\n",
      "[42, 42, 58, 49] [42, 42, 58, 49]\n",
      "\n",
      "\n",
      "[54, 81, 23, 90] [54, 81, 23, 90]\n",
      "\n",
      "\n",
      "[54, 64, 36, 34] [54, 64, 36, 34]\n",
      "\n",
      "\n",
      "[25, 83, 53, 15] [25, 83, 53, 15]\n",
      "\n",
      "\n",
      "[54, 17, 23, 90] [54, 17, 23, 90]\n",
      "\n",
      "\n",
      "[54, 81, 23, 96] [54, 81, 23, 96]\n",
      "\n",
      "\n",
      "[54, 64, 23, 26] [54, 64, 23, 26]\n",
      "\n",
      "\n",
      "[97, 89, 23, 49] [97, 89, 23, 49]\n",
      "\n",
      "\n",
      "[54, 6, 23, 90] [54, 6, 23, 90]\n",
      "\n",
      "\n",
      "[54, 89, 23, 49] [54, 89, 23, 49]\n",
      "\n",
      "\n",
      "[54, 2, 23, 90] [54, 2, 23, 90]\n",
      "\n",
      "\n",
      "[54, 25, 23, 90] [54, 25, 23, 90]\n",
      "\n",
      "\n",
      "[9, 81, 23, 26] [9, 81, 23, 26]\n",
      "\n",
      "\n",
      "[97, 17, 84, 85] [97, 17, 84, 85]\n",
      "\n",
      "\n",
      "[54, 87, 58, 49] [54, 87, 58, 49]\n",
      "\n",
      "\n",
      "[82, 64, 53, 90] [82, 64, 53, 90]\n",
      "\n",
      "\n",
      "[97, 64, 34, 90] [97, 64, 34, 90]\n",
      "\n",
      "\n",
      "[97, 83, 53, 79] [97, 83, 53, 79]\n",
      "\n",
      "\n",
      "[82, 25, 23, 90] [82, 25, 23, 90]\n",
      "\n",
      "\n",
      "[97, 73, 53, 90] [97, 73, 53, 90]\n",
      "\n",
      "\n",
      "[1, 83, 53, 90] [1, 83, 53, 90]\n",
      "\n",
      "\n",
      "[82, 24, 23, 79] [82, 24, 23, 79]\n",
      "\n",
      "\n",
      "[91, 83, 23, 90] [91, 83, 23, 90]\n",
      "\n",
      "\n",
      "[97, 77, 23, 90] [97, 77, 23, 90]\n",
      "\n",
      "\n",
      "[97, 64, 53, 32] [97, 64, 53, 32]\n",
      "\n",
      "\n",
      "[83, 83, 53, 90] [83, 83, 53, 90]\n",
      "\n",
      "\n",
      "[72, 83, 23, 90] [72, 83, 23, 90]\n",
      "\n",
      "\n",
      "[58, 83, 23, 90] [58, 83, 23, 90]\n",
      "\n",
      "\n",
      "[72, 64, 23, 90] [72, 64, 23, 90]\n",
      "\n",
      "\n",
      "[65, 87, 53, 90] [65, 87, 53, 90]\n",
      "\n",
      "\n",
      "[83, 83, 64, 90] [83, 83, 64, 90]\n",
      "\n",
      "\n",
      "[54, 83, 87, 90] [54, 83, 87, 90]\n",
      "\n",
      "\n",
      "[72, 73, 23, 90] [72, 73, 23, 90]\n",
      "\n",
      "\n",
      "[83, 87, 53, 88] [83, 87, 53, 88]\n",
      "\n",
      "\n",
      "[97, 87, 53, 20] [97, 87, 53, 20]\n",
      "\n",
      "\n",
      "[83, 87, 84, 90] [83, 87, 84, 90]\n",
      "\n",
      "\n",
      "População final:\n",
      "[[97, 87, 23, 90], [83, 87, 84, 90], [97, 87, 23, 90], [83, 87, 23, 90], [97, 87, 53, 20], [83, 87, 53, 90], [97, 87, 53, 90], [83, 87, 53, 90], [83, 87, 53, 90], [97, 87, 23, 90], [83, 73, 53, 90], [97, 87, 53, 90], [97, 87, 53, 90], [83, 87, 53, 90], [97, 87, 53, 90], [83, 73, 53, 90], [97, 87, 53, 90], [97, 87, 53, 90], [83, 87, 23, 90], [83, 73, 53, 90]]\n"
     ]
    }
   ],
   "source": [
    "populacao = cria_populacao_inicial(TAMANHO_POP, NUM_GENES)\n",
    "\n",
    "print(\"População inicial:\")\n",
    "print(populacao)\n",
    "\n",
    "for n in range(NUM_GERACOES):\n",
    "    fitness = funcao_objetivo_pop_cb(populacao)\n",
    "    populacao = funcao_selecao(populacao, fitness)\n",
    "    pais = populacao[0::2]\n",
    "    maes = populacao[1::2]\n",
    "    contador = 0\n",
    "    for pai, mae in zip(pais, maes):\n",
    "        if random.random() < CHANCE_CRUZAMENTO:\n",
    "            filho1, filho2 = funcao_cruzamento(pai, mae)\n",
    "            populacao[contador] = filho1\n",
    "            populacao[contador + 1] = filho2\n",
    "            \n",
    "        contador = contador + 2\n",
    "\n",
    "    for n in range(len(populacao)):\n",
    "        if random.random() <= CHANCE_MUTACAO:\n",
    "            individuo = populacao[n]\n",
    "            populacao[n] = funcao_mutacao(individuo)\n",
    "            print()\n",
    "            print(individuo, populacao[n])\n",
    "            print()\n",
    "print()\n",
    "print(\"População final:\")\n",
    "print(populacao)"
   ]
  },
  {
   "cell_type": "markdown",
   "metadata": {},
   "source": [
    "## Conclusão\n",
    "\n",
    "O algoritmo que fizemos nessa aula é funcional, e ele consegue nos entregar respostas coerentes. Porém para um problema de caixas não binárias, ele não é o mais eficiente. Mesmo aumentando consideravelmente o número de gerações e a população, o número mágico que é 400 ou qualquer coisa perto disso nunca é alcançado. Dessa maneira, acredito que para o problema de caixas não-binárias, precisamos de um algoritmo mais robusto para conseguir resultados melhores.\n"
   ]
  },
  {
   "cell_type": "markdown",
   "metadata": {},
   "source": [
    "## Playground\n",
    "\n"
   ]
  },
  {
   "cell_type": "code",
   "execution_count": null,
   "metadata": {},
   "outputs": [],
   "source": []
  }
 ],
 "metadata": {
  "kernelspec": {
   "display_name": "ilumpy",
   "language": "python",
   "name": "ilumpy"
  },
  "language_info": {
   "codemirror_mode": {
    "name": "ipython",
    "version": 3
   },
   "file_extension": ".py",
   "mimetype": "text/x-python",
   "name": "python",
   "nbconvert_exporter": "python",
   "pygments_lexer": "ipython3",
   "version": "3.9.7"
  },
  "org": null
 },
 "nbformat": 4,
 "nbformat_minor": 4
}
