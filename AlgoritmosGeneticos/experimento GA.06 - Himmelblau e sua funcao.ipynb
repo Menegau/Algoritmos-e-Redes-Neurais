{
 "cells": [
  {
   "cell_type": "markdown",
   "metadata": {},
   "source": [
    "experimento GA.06 - Himmelblau e sua funcao\n",
    "========================================\n",
    "\n"
   ]
  },
  {
   "cell_type": "markdown",
   "metadata": {},
   "source": [
    "## Introdução\n",
    "\n"
   ]
  },
  {
   "cell_type": "markdown",
   "metadata": {},
   "source": [
    "Delete este texto e escreva uma breve introdução sobre seu experimento.\n",
    "\n"
   ]
  },
  {
   "cell_type": "markdown",
   "metadata": {},
   "source": [
    "## Objetivo\n",
    "\n"
   ]
  },
  {
   "cell_type": "markdown",
   "metadata": {},
   "source": [
    "Delete este texto e escreva seu objetivo.\n",
    "\n"
   ]
  },
  {
   "cell_type": "markdown",
   "metadata": {},
   "source": [
    "## Importações\n",
    "\n"
   ]
  },
  {
   "cell_type": "markdown",
   "metadata": {},
   "source": [
    "Todos os comandos de `import` devem estar dentro desta seção.\n",
    "\n"
   ]
  },
  {
   "cell_type": "code",
   "execution_count": 1,
   "metadata": {},
   "outputs": [],
   "source": [
    "import random\n",
    "\n",
    "from funcoes import Himmelblau as him\n",
    "from funcoes import funcao_objetivo_himmelblau as foh\n",
    "from funcoes import gene_him as gene\n",
    "from funcoes import individuo_him\n",
    "from funcoes import populacao_him\n",
    "from funcoes import selecao_torneio_min_him as selecao\n",
    "from funcoes import funcao_mutacao_him as mutacao\n",
    "from funcoes import cruzamento_him as funcao_cruzamento"
   ]
  },
  {
   "cell_type": "markdown",
   "metadata": {},
   "source": [
    "## Códigos e discussão\n",
    "\n"
   ]
  },
  {
   "cell_type": "markdown",
   "metadata": {},
   "source": [
    "-   Use células de código para o código.\n",
    "\n",
    "-   Use células de texto para a discussão.\n",
    "\n",
    "-   A discussão não deve ser feita em comentários dentro das células de código. Toda discussão deve acontecer após o resultado sendo discutido foi apresentado. Exemplo: não discuta um gráfico antes de apresentá-lo.\n",
    "\n"
   ]
  },
  {
   "cell_type": "markdown",
   "metadata": {},
   "source": [
    "### Experimento:"
   ]
  },
  {
   "cell_type": "markdown",
   "metadata": {},
   "source": [
    "A seguir, definimos as constantes para nosso código:"
   ]
  },
  {
   "cell_type": "code",
   "execution_count": 2,
   "metadata": {},
   "outputs": [],
   "source": [
    "#Constantes:\n",
    "TAMANHO_POP = 100\n",
    "NUMERO_VARIAVEIS = 2\n",
    "NUM_GERACOES = 1000\n",
    "CHANCE_CRUZAMENTO = 0.5\n",
    "CHANCE_MUTACAO = 0.05"
   ]
  },
  {
   "cell_type": "markdown",
   "metadata": {},
   "source": [
    "TAMANHO_POP é o número de indivíduos que serão utilizados para o algoritmo genético.  \n",
    "NUMERO_VARIAVEIS é uma constante que é necessária se definir para resolver um problema de múltiplas variáveis.Ela simplesmente é o número de variáveis para o seu problema.  \n",
    "NUM_GERACOES é o número de gerações máximas que serão rodadas pelo algoritmo genético em busca da resposta.  \n",
    "CHANCE_CRUZAMENTO é a chance de um pai e uma mãe de fato misturarem seus genes.  \n",
    "CHANCE_MUTACAO é a chance de indivíduos quaisquer terem seu gene realeatorizado, ou seja, mutado."
   ]
  },
  {
   "cell_type": "markdown",
   "metadata": {},
   "source": [
    "A seguir, definimos as funções locais:"
   ]
  },
  {
   "cell_type": "code",
   "execution_count": 3,
   "metadata": {},
   "outputs": [],
   "source": [
    "#Funções locais:\n",
    "def funcao_objetivo(populacao):\n",
    "    fitnesss = []\n",
    "    for i in populacao:\n",
    "        individuo = foh(i)\n",
    "        fitnesss.append(individuo)\n",
    "    return fitnesss"
   ]
  },
  {
   "cell_type": "markdown",
   "metadata": {},
   "source": [
    "Essa função local aplica na lista populacao a funcao_objetivo.  \n",
    "Isso é necessário pois a função objetivo, para retornar o fitness, precisa trabalhar com as variáveis de cada indivíduo. Dessa forma, não se pode aplicar diretamente a função objetivo na lista população, precisamos abrir ela e aplicá-la em cada indivíduo."
   ]
  },
  {
   "cell_type": "code",
   "execution_count": 10,
   "metadata": {
    "tags": []
   },
   "outputs": [
    {
     "name": "stdout",
     "output_type": "stream",
     "text": [
      "[3.1249045862368954, 1.380858460479475] - fitness: 3.8955876442611825\n",
      "[3.1249045862368954, 1.7491201915272614] - fitness: 0.9296730792643604\n",
      "[3.1249045862368954, 1.7785955382813234] - fitness: 0.8020346719882351\n",
      "[3.1249045862368954, 2.003605163859832] - fitness: 0.610213120110512\n",
      "[3.1249045862368954, 1.85271396497513] - fitness: 0.5774532633356958\n",
      "[3.023644876838789, 1.85271396497513] - fitness: 0.2957486576074754\n",
      "[3.023644876838789, 1.9287231034207908] - fitness: 0.07079441874793985\n",
      "[3.023644876838789, 2.017692668205797] - fitness: 0.03461224156491089\n",
      "[3.002926476840959, 2.017692668205797] - fitness: 0.006720780964065272\n",
      "[3.002926476840959, 1.9996344806580912] - fitness: 0.000298050426155245\n",
      "[3.0025449752885294, 1.9996344806580912] - fitness: 0.00022350519092239685\n",
      "\n",
      "Melhor palpite de valores de x e y (respectivamente) para o mínimo global encontrado:\n",
      "[3.0025449752885294, 1.9996344806580912]\n"
     ]
    }
   ],
   "source": [
    "populacao = populacao_him(TAMANHO_POP, NUMERO_VARIAVEIS) # Estamos criando a população com os parâmetros que são necessários.\n",
    "#print(populacao)\n",
    "melhor_fitness_ja_visto = float(\"inf\") # Estamos definindo que o melhor fitness já visto é maior que qualquer fitness da população. Isso é necessário para que o código possa rodar corretamente.\n",
    "#print(\"Progresso do melhor candidato para o mínimo global da função:\")\n",
    "\n",
    "for n in range(NUM_GERACOES):\n",
    "\n",
    "    #Seleção\n",
    "    fitness = funcao_objetivo(populacao) # Cria-se uma lista com o fitness de cada indivíduo\n",
    "    \n",
    "    #print(par_populacao_fitness)\n",
    "\n",
    "    populacao = selecao(populacao, fitness) # Juntamos anbas as listas, e comparamos de 3 em 3 todos os indivíduos para definir os melhores\n",
    "    \n",
    "    # Cruzamento\n",
    "    pais = populacao[0::2]\n",
    "    maes = populacao[1::2]\n",
    "    \n",
    "    contador = 0\n",
    "    \n",
    "    for pai, mae in zip(pais, maes):\n",
    "        if random.random() <= CHANCE_CRUZAMENTO: # Aleatorizando as chances...\n",
    "            filho1, filho2 = funcao_cruzamento(pai, mae) # Estamos cruzando os indivíduos como no problema das caixas binárias, cruzamento de ponto simples.\n",
    "            populacao[contador] = filho1\n",
    "            populacao[contador + 1] = filho2\n",
    "        \n",
    "        contador = contador + 2   \n",
    "\n",
    "                \n",
    "    # Mutação\n",
    "    for n in range(len(populacao)):\n",
    "        if random.random() <= CHANCE_MUTACAO: # Aleatorizando as chances...\n",
    "            individuo = populacao[n]\n",
    "            populacao[n] = mutacao(individuo) # Aplicando a mutação nos indivíduos fortunos (ou infortunos)  \n",
    "            \n",
    "    # melhor individuo já visto até agora\n",
    "    fitness = funcao_objetivo(populacao)\n",
    "    menor_fitness = min(fitness)\n",
    "    if menor_fitness < melhor_fitness_ja_visto:        \n",
    "        posicao = fitness.index(menor_fitness)\n",
    "        melhor_individuo_ja_visto = populacao[posicao].copy()\n",
    "        melhor_fitness_ja_visto = menor_fitness\n",
    "        #print(melhor_individuo_ja_visto)\n",
    "        print((melhor_individuo_ja_visto), \"- fitness:\", melhor_fitness_ja_visto)\n",
    "\n",
    "        \n",
    "# Retornando o melhor indivíduo encontrado: \n",
    "print()\n",
    "print(\"Melhor palpite de valores de x e y (respectivamente) para o mínimo global encontrado:\")\n",
    "print(melhor_individuo_ja_visto) \n",
    "\n",
    "            "
   ]
  },
  {
   "cell_type": "markdown",
   "metadata": {},
   "source": [
    "## Conclusão\n",
    "\n"
   ]
  },
  {
   "cell_type": "markdown",
   "metadata": {},
   "source": [
    "Gostei muito da minha resolução desse problema. Depois de resolvê-lo, algumas coisas ficaram bem evidentes:\n",
    "1. O problema é bem simples, literalmente um problema de caixas binárias.\n",
    "2. Sempre é preciso tentar reaproveitar códigos já trabalhados anteriormente, e assim também dividir bastante o problema em diversos algoritmos.\n",
    "\n",
    "A função de Himmelblau é uma função de duas variáveis muito útil para usar como modelo para testar algoritmos genéticos que precisam encontrar o mínimo global. Apesar de não ter possibilitado valores negativos, isso não é um problema. Existe um resultado para cada quadrante do plano cartesiano, e no nosso caso, apenas os pontos bem comportados (3,2) será o encontrado. Se eu quisesse introduzir valores negativos, acho interessante apenas adicionar um condicional na geração que possa dar 50% de chances do float gerado ser negativo ou positivo, o que é bastante fácil."
   ]
  },
  {
   "cell_type": "markdown",
   "metadata": {},
   "source": [
    "## Referências consultadas\n",
    "\n"
   ]
  },
  {
   "cell_type": "markdown",
   "metadata": {},
   "source": [
    "1.  Delete este texto e inclua suas referências ordenadas numericamente. Se for referenciar no notebook, use o número entre colchetes (exemplo: para citar essa referência aqui escreva &ldquo;[1]&rdquo; sem as áspas).\n",
    "\n",
    "2.  Cada item deve ser numerado. Siga o padrão apresentado.\n",
    "\n",
    "3.  Caso não tenha nenhuma referência consultada, delete esta seção e o texto contido nela!\n",
    "\n"
   ]
  },
  {
   "cell_type": "markdown",
   "metadata": {},
   "source": [
    "## Playground\n",
    "\n"
   ]
  },
  {
   "cell_type": "markdown",
   "metadata": {},
   "source": [
    "Todo código de teste que não faz parte do seu experimento deve vir aqui. Este código não será considerado na avaliação.\n",
    "\n"
   ]
  },
  {
   "cell_type": "code",
   "execution_count": 5,
   "metadata": {},
   "outputs": [],
   "source": [
    "### CONSTANTES\n",
    "\n",
    "# relacionadas à busca\n",
    "TAMANHO_POP = 50\n",
    "NUM_GERACOES = 2000\n",
    "CHANCE_CRUZAMENTO = 0.5\n",
    "CHANCE_MUTACAO = 0.05\n",
    "NUM_COMBATENTES_NO_TORNEIO = 3"
   ]
  },
  {
   "cell_type": "code",
   "execution_count": 6,
   "metadata": {},
   "outputs": [],
   "source": [
    "# funções locais\n",
    "\n",
    "def cria_populacao_inicial(tamanho, tamanho_senha):\n",
    "    return populacao_inicial_senha(tamanho, tamanho_senha, LETRAS_POSSIVEIS)\n",
    "\n",
    "def funcao_objetivo_pop(populacao):\n",
    "    return funcao_objetivo_pop_senha(populacao, SENHA)\n",
    "\n",
    "def funcao_selecao(populacao, fitness):\n",
    "    return selecao_torneio_min(populacao, fitness, NUM_COMBATENTES_NO_TORNEIO)\n",
    "\n",
    "def funcao_mutacao(individuo):\n",
    "    return mutacao_senha(individuo, LETRAS_POSSIVEIS)"
   ]
  },
  {
   "cell_type": "code",
   "execution_count": null,
   "metadata": {},
   "outputs": [],
   "source": []
  }
 ],
 "metadata": {
  "kernelspec": {
   "display_name": "ilumpy",
   "language": "python",
   "name": "ilumpy"
  },
  "language_info": {
   "codemirror_mode": {
    "name": "ipython",
    "version": 3
   },
   "file_extension": ".py",
   "mimetype": "text/x-python",
   "name": "python",
   "nbconvert_exporter": "python",
   "pygments_lexer": "ipython3",
   "version": "3.9.7"
  },
  "org": null
 },
 "nbformat": 4,
 "nbformat_minor": 4
}
