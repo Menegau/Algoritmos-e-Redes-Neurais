{
 "cells": [
  {
   "cell_type": "markdown",
   "metadata": {},
   "source": [
    "Busca aleatória\n",
    "===============\n",
    "\n"
   ]
  },
  {
   "cell_type": "markdown",
   "metadata": {},
   "source": [
    "## Introdução\n",
    "\n"
   ]
  },
  {
   "cell_type": "markdown",
   "metadata": {},
   "source": [
    "Uma forma simples de se encontrar uma solução para um `problema de otimização` é realizando uma `busca aleatória`. A busca aleatória, como o próprio nome sugere, é um algoritmo onde um certo `espaço de busca` é definido de onde sorteamos `candidatos` de soluções para o problema.\n",
    "\n",
    "Diferentemente de outros algoritmos de otimização, a busca aleatória não requer que a `função objetivo` seja diferenciável nem contínua.\n",
    "\n",
    "Um algoritmo de busca aleatória segue os seguintes passos:\n",
    "\n",
    "1.  Um espaço de busca é definido\n",
    "\n",
    "2.  Um candidato $x$ dentro do espaço de busca é sorteado aleatoriamente\n",
    "\n",
    "3.  Calculamos o resultado da função objetivo para o candidato $x$\n",
    "\n",
    "4.  Se o critério de parada for atingido, encerrar o algoritmo e retornar ao usuário o candidato que teve melhor resultado durante a busca. Do contrário, retorne ao passo 2\n",
    "\n"
   ]
  },
  {
   "cell_type": "markdown",
   "metadata": {},
   "source": [
    "## Reflexões\n",
    "\n"
   ]
  },
  {
   "cell_type": "markdown",
   "metadata": {},
   "source": [
    "Você diria que o algoritmo de busca aleatória é determinístico ou probabilístico?\n",
    "\n",
    "Em quais problemas de otimização você acredita que este algoritmo seja uma boa escolha?\n",
    "\n",
    "Em quais problemas de otimização você acredita que este algoritmo seja uma má escolha?\n",
    "\n"
   ]
  },
  {
   "cell_type": "markdown",
   "metadata": {},
   "source": [
    "## Objetivo\n",
    "\n"
   ]
  },
  {
   "cell_type": "markdown",
   "metadata": {},
   "source": [
    "Encontrar uma solução para o problema das caixas binárias usando o algoritmo de busca aleatória. Considere 4 caixas.\n",
    "\n"
   ]
  },
  {
   "cell_type": "markdown",
   "metadata": {},
   "source": [
    "## Descrição do problema\n",
    "\n"
   ]
  },
  {
   "cell_type": "markdown",
   "metadata": {},
   "source": [
    "O problema das caixas binárias é simples: nós temos um certo número de caixas e cada uma pode conter um valor do conjunto $\\{0, 1\\}$. O objetivo é encontrar uma combinação de caixas onde a soma dos valores contidos dentro delas é máximo.\n",
    "\n",
    "Como todo problema computacional, um dos desafios é &ldquo;traduzir&rdquo; o problema dado em estruturas computacionais.\n",
    "\n"
   ]
  },
  {
   "cell_type": "markdown",
   "metadata": {},
   "source": [
    "## Importações\n",
    "\n"
   ]
  },
  {
   "cell_type": "code",
   "execution_count": 37,
   "metadata": {},
   "outputs": [],
   "source": [
    "import random"
   ]
  },
  {
   "cell_type": "markdown",
   "metadata": {},
   "source": [
    "## Códigos e discussão\n",
    "\n"
   ]
  },
  {
   "cell_type": "code",
   "execution_count": 38,
   "metadata": {},
   "outputs": [
    {
     "name": "stdout",
     "output_type": "stream",
     "text": [
      "[0, 1, 1, 0] 2\n",
      "[0, 1, 1, 0] 2\n",
      "[0, 1, 1, 0] 2\n",
      "[0, 1, 1, 0] 2\n",
      "[1, 0, 1, 1] 3\n",
      "[1, 0, 1, 1] 3\n",
      "[1, 0, 1, 1] 3\n",
      "[1, 0, 1, 1] 3\n",
      "[1, 0, 1, 1] 3\n",
      "[1, 0, 1, 1] 3\n",
      "[1, 0, 1, 1] 3\n",
      "[1, 0, 1, 1] 3\n",
      "[1, 0, 1, 1] 3\n",
      "[1, 0, 1, 1] 3\n",
      "[1, 0, 1, 1] 3\n",
      "[1, 0, 1, 1] 3\n",
      "[1, 0, 1, 1] 3\n",
      "[1, 0, 1, 1] 3\n",
      "[1, 0, 1, 1] 3\n",
      "[1, 0, 1, 1] 3\n",
      "[1, 0, 1, 1] 3\n",
      "[1, 0, 1, 1] 3\n",
      "[1, 0, 1, 1] 3\n",
      "[1, 0, 1, 1] 3\n",
      "[1, 0, 1, 1] 3\n",
      "[1, 0, 1, 1] 3\n",
      "[1, 0, 1, 1] 3\n",
      "[1, 0, 1, 1] 3\n",
      "[1, 0, 1, 1] 3\n",
      "[1, 0, 1, 1] 3\n",
      "[1, 0, 1, 1] 3\n",
      "[1, 0, 1, 1] 3\n",
      "[1, 0, 1, 1] 3\n",
      "[1, 0, 1, 1] 3\n",
      "[1, 0, 1, 1] 3\n",
      "[1, 1, 1, 1] 4\n"
     ]
    }
   ],
   "source": [
    "repeat = 100 #Aqui, defino o número de repetições que o meu código rodará procurando a melhor combinação.\n",
    "individuo = [0,0,0,0] #Defino a lista que será utilizada para representar o problema.\n",
    "caixa1,caixa2,caixa3,caixa4 = indivíduo #Nomeio cada \"slot\" da lista, as caixas.\n",
    "i = 0 #criando a variável i, que será utilizada para somar os valores das caixas.\n",
    "\n",
    "while repeat != 0: #Criando o loop while\n",
    "    \n",
    "    #aleatorizando os valores de cada caixa utilizando a função random.\n",
    "    caixa1 = random.random() \n",
    "    caixa2 = random.random()\n",
    "    caixa3 = random.random()\n",
    "    caixa4 = random.random()\n",
    "    \n",
    "    ## Binarizando os valores de cada caixa. Ou é 1 ou é 0.\n",
    "    if caixa1 > 0.5:\n",
    "        caixa1 = 1\n",
    "    else:\n",
    "        caixa1 = 0\n",
    "    if caixa2 > 0.5:\n",
    "        caixa2 = 1\n",
    "    else:\n",
    "        caixa2 = 0\n",
    "    if caixa3 > 0.5:\n",
    "        caixa3 = 1\n",
    "    else:\n",
    "        caixa3 = 0\n",
    "    if caixa4 > 0.5:\n",
    "        caixa4 = 1\n",
    "    else:\n",
    "        caixa4 = 0\n",
    "    \n",
    "    \n",
    "    if i >=caixa1 + caixa2 + caixa3 + caixa4: #Se a soma dos números aleatórios for maior do que está guardado de loops anteriores, não acontecerá nada.\n",
    "        print(individuo,i)\n",
    "    else:\n",
    "        individuo = [caixa1,caixa2,caixa3,caixa4]\n",
    "        i = caixa1 + caixa2 + caixa3 + caixa4 # Já se a soma dos números for maior, essa combinação será guardada para o próximo loop.\n",
    "        print(individuo,i)\n",
    "    if i == len(individuo): break # A contagem acabará quando a soma dos números binários for o máximo possível, que nesse caso é 4.\n",
    "    repeat = repeat - 1\n",
    "    "
   ]
  },
  {
   "cell_type": "markdown",
   "metadata": {},
   "source": [
    "## Conclusão\n",
    "Você diria que o algoritmo de busca aleatória é determinístico ou probabilístico?\n",
    "-> Probabilístico. Isso porque a combinação alvo é encontrada com base na aleatorização dos valores binários das caixas. Nesse modelo de valores binários, não há nenhum problema na busca aleatória. Porém em problemas mais complexos se torna inviável o tempo gasto que seria levado para encontrar o resultado esperado.\n",
    "\n",
    "Em quais problemas de otimização você acredita que este algoritmo seja uma boa escolha?\n",
    "-> Para algoritmos que o número de eventos probabilísticos possíveis sejam relativamente pequenos. No caso do problema das caixas binárias, sabemos que os eventos possíveis são bastante limitados. Ou seja, para cada aleatorização, há uma chance relevante do resultado esperado aparecer.\n",
    "\n",
    "Em quais problemas de otimização você acredita que este algoritmo seja uma má escolha?\n",
    "-> Problemas mais complexos, como por exemplo, um problema de 4 caixas decimais ou hexadecimais já seria muito mais complexo e demandaria muito mais computação pelo método da busca aleatória para que fosse encontrado o resultado esperado."
   ]
  },
  {
   "cell_type": "markdown",
   "metadata": {},
   "source": [
    "## Playground\n",
    "\n"
   ]
  },
  {
   "cell_type": "code",
   "execution_count": null,
   "metadata": {},
   "outputs": [],
   "source": []
  },
  {
   "cell_type": "code",
   "execution_count": null,
   "metadata": {},
   "outputs": [],
   "source": []
  },
  {
   "cell_type": "code",
   "execution_count": null,
   "metadata": {},
   "outputs": [],
   "source": []
  }
 ],
 "metadata": {
  "kernelspec": {
   "display_name": "ilumpy",
   "language": "python",
   "name": "ilumpy"
  },
  "language_info": {
   "codemirror_mode": {
    "name": "ipython",
    "version": 3
   },
   "file_extension": ".py",
   "mimetype": "text/x-python",
   "name": "python",
   "nbconvert_exporter": "python",
   "pygments_lexer": "ipython3",
   "version": "3.9.7"
  },
  "org": null
 },
 "nbformat": 4,
 "nbformat_minor": 4
}
