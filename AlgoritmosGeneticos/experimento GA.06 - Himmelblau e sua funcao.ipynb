{
 "cells": [
  {
   "cell_type": "markdown",
   "metadata": {},
   "source": [
    "experimento GA.06 - Himmelblau e sua funcao\n",
    "========================================\n",
    "\n"
   ]
  },
  {
   "cell_type": "markdown",
   "metadata": {},
   "source": [
    "## Introdução\n",
    "\n"
   ]
  },
  {
   "cell_type": "markdown",
   "metadata": {},
   "source": [
    "<p style = \"text-align:justify\">\n",
    "A função de Himmelblau é uma função matemática utilizada para verificar a eficácia de algoritmos de otimização. Para este experimento, estarei aplicando algoritmos genéticos para encontrar o mínimo global do quadrante de coordenadas positivas. O algoritmo poderia ser utilizado para encontrar quaisquer mínimo global de Himmelblau, mas me limitei a apenas um para que houvesse constância nos resultados.\n",
    "</p>"
   ]
  },
  {
   "cell_type": "markdown",
   "metadata": {},
   "source": [
    "## Objetivo\n",
    "\n"
   ]
  },
  {
   "cell_type": "markdown",
   "metadata": {},
   "source": [
    "**Objetivo**: Encontre a coordenada $(x,y)$ do mínimo global da função de Himmelblau abaixo.\n",
    "\n",
    " \n",
    "\n",
    "$$\n",
    "f(x,y) = (x^2 +y -11)^2 + (x + y^2 - 7)^2\n",
    "$$"
   ]
  },
  {
   "cell_type": "markdown",
   "metadata": {},
   "source": [
    "## Importações\n",
    "\n"
   ]
  },
  {
   "cell_type": "markdown",
   "metadata": {},
   "source": [
    "Todos os comandos de `import` devem estar dentro desta seção.\n",
    "\n"
   ]
  },
  {
   "cell_type": "code",
   "execution_count": 1,
   "metadata": {},
   "outputs": [],
   "source": [
    "import random\n",
    "\n",
    "from funcoes import Himmelblau as him\n",
    "from funcoes import funcao_objetivo_himmelblau as foh\n",
    "from funcoes import gene_him as gene\n",
    "from funcoes import individuo_him\n",
    "from funcoes import populacao_him\n",
    "from funcoes import selecao_torneio_min_him as selecao\n",
    "from funcoes import funcao_mutacao_him as mutacao\n",
    "from funcoes import cruzamento_him as funcao_cruzamento"
   ]
  },
  {
   "cell_type": "markdown",
   "metadata": {},
   "source": [
    "## Códigos e discussão\n",
    "\n"
   ]
  },
  {
   "cell_type": "markdown",
   "metadata": {},
   "source": [
    "### Experimento:"
   ]
  },
  {
   "cell_type": "markdown",
   "metadata": {},
   "source": [
    "A seguir, definimos as constantes para nosso código:"
   ]
  },
  {
   "cell_type": "code",
   "execution_count": 2,
   "metadata": {},
   "outputs": [],
   "source": [
    "#Constantes:\n",
    "TAMANHO_POP = 100\n",
    "NUMERO_VARIAVEIS = 2\n",
    "NUM_GERACOES = 1000\n",
    "CHANCE_CRUZAMENTO = 0.5\n",
    "CHANCE_MUTACAO = 0.05"
   ]
  },
  {
   "cell_type": "markdown",
   "metadata": {},
   "source": [
    "TAMANHO_POP é o número de indivíduos que serão utilizados para o algoritmo genético.  \n",
    "NUMERO_VARIAVEIS é uma constante que é necessária se definir para resolver um problema de múltiplas variáveis.Ela simplesmente é o número de variáveis para o seu problema.  \n",
    "NUM_GERACOES é o número de gerações máximas que serão rodadas pelo algoritmo genético em busca da resposta.  \n",
    "CHANCE_CRUZAMENTO é a chance de um pai e uma mãe de fato misturarem seus genes.  \n",
    "CHANCE_MUTACAO é a chance de indivíduos quaisquer terem seu gene realeatorizado, ou seja, mutado."
   ]
  },
  {
   "cell_type": "markdown",
   "metadata": {},
   "source": [
    "A seguir, definimos as funções locais:"
   ]
  },
  {
   "cell_type": "code",
   "execution_count": 3,
   "metadata": {},
   "outputs": [],
   "source": [
    "#Funções locais:\n",
    "def funcao_objetivo(populacao):\n",
    "    fitnesss = []\n",
    "    for i in populacao:\n",
    "        individuo = foh(i)\n",
    "        fitnesss.append(individuo)\n",
    "    return fitnesss"
   ]
  },
  {
   "cell_type": "markdown",
   "metadata": {},
   "source": [
    "Essa função local aplica na lista populacao a funcao_objetivo.  \n",
    "Isso é necessário pois a função objetivo, para retornar o fitness, precisa trabalhar com as variáveis de cada indivíduo. Dessa forma, não se pode aplicar diretamente a função objetivo na lista população, precisamos abrir ela e aplicá-la em cada indivíduo."
   ]
  },
  {
   "cell_type": "code",
   "execution_count": 4,
   "metadata": {
    "tags": []
   },
   "outputs": [
    {
     "name": "stdout",
     "output_type": "stream",
     "text": [
      "[2.012103208642807, 2.5563124441403886] - fitness: 21.709855411843826\n",
      "[3.2557519651088143, 0.5023624786603376] - fitness: 12.203687640306972\n",
      "[3.2557519651088143, 2.250470387067934] - fitness: 5.167321867470219\n",
      "[3.2557519651088143, 1.610309296510315] - fitness: 2.7898079650168293\n",
      "[3.1684666472867806, 1.610309296510315] - fitness: 1.9555645100575982\n",
      "[3.1684666472867806, 1.625665438111974] - fitness: 1.8551358828220423\n",
      "[3.1684666472867806, 1.9601535297095263] - fitness: 0.9987831093954512\n",
      "[3.1684666472867806, 1.9140066559594349] - fitness: 0.9368281093086352\n",
      "[3.1684666472867806, 1.8735561612076523] - fitness: 0.9363359025186513\n",
      "[3.1233486128998678, 1.8735561612076523] - fitness: 0.529745638555727\n",
      "[2.9742706471306124, 1.8735561612076523] - fitness: 0.3442459110612895\n",
      "[2.9742706471306124, 1.9889623176435833] - fitness: 0.03200936929757957\n",
      "[2.9742706471306124, 2.0125458755377243] - fitness: 0.02053420088029173\n",
      "[2.978549733613135, 2.0125458755377243] - fitness: 0.014220142685086517\n",
      "[3.005784092936371, 2.0125458755377243] - fitness: 0.005385781108793397\n",
      "\n",
      "Melhor palpite de valores de x e y (respectivamente) para o mínimo global encontrado:\n",
      "[3.005784092936371, 2.0125458755377243]\n"
     ]
    }
   ],
   "source": [
    "populacao = populacao_him(\n",
    "    TAMANHO_POP, NUMERO_VARIAVEIS\n",
    ")  # Estamos criando a população com os parâmetros que são necessários.\n",
    "# print(populacao)\n",
    "melhor_fitness_ja_visto = float(\n",
    "    \"inf\"\n",
    ")  # Estamos definindo que o melhor fitness já visto é maior que qualquer fitness da população. Isso é necessário para que o código possa rodar corretamente.\n",
    "# print(\"Progresso do melhor candidato para o mínimo global da função:\")\n",
    "\n",
    "for n in range(NUM_GERACOES):\n",
    "    # Seleção\n",
    "    fitness = funcao_objetivo(\n",
    "        populacao\n",
    "    )  # Cria-se uma lista com o fitness de cada indivíduo\n",
    "\n",
    "    # print(par_populacao_fitness)\n",
    "\n",
    "    populacao = selecao(\n",
    "        populacao, fitness\n",
    "    )  # Juntamos ambas as listas, e comparamos de 3 em 3 todos os indivíduos para definir os melhores\n",
    "\n",
    "    # Cruzamento\n",
    "    pais = populacao[0::2]\n",
    "    maes = populacao[1::2]\n",
    "\n",
    "    contador = 0\n",
    "\n",
    "    for pai, mae in zip(pais, maes):\n",
    "        if random.random() <= CHANCE_CRUZAMENTO:  # Aleatorizando as chances...\n",
    "            filho1, filho2 = funcao_cruzamento(\n",
    "                pai, mae\n",
    "            )  # Estamos cruzando os indivíduos como no problema das caixas binárias, cruzamento de ponto simples.\n",
    "            populacao[contador] = filho1\n",
    "            populacao[contador + 1] = filho2\n",
    "        contador = contador + 2\n",
    "    # Mutação\n",
    "    for n in range(len(populacao)):\n",
    "        if random.random() <= CHANCE_MUTACAO:  # Aleatorizando as chances...\n",
    "            individuo = populacao[n]\n",
    "            populacao[n] = mutacao(\n",
    "                individuo\n",
    "            )  # Aplicando a mutação nos indivíduos fortunos (ou infortunos)\n",
    "    # melhor individuo já visto até agora\n",
    "    fitness = funcao_objetivo(populacao)\n",
    "    menor_fitness = min(fitness)\n",
    "    if menor_fitness < melhor_fitness_ja_visto:\n",
    "        posicao = fitness.index(menor_fitness)\n",
    "        melhor_individuo_ja_visto = populacao[posicao].copy()\n",
    "        melhor_fitness_ja_visto = menor_fitness\n",
    "        # print(melhor_individuo_ja_visto)\n",
    "        print((melhor_individuo_ja_visto), \"- fitness:\", melhor_fitness_ja_visto)\n",
    "# Retornando o melhor indivíduo encontrado:\n",
    "print()\n",
    "print(\n",
    "    \"Melhor palpite de valores de x e y (respectivamente) para o mínimo global encontrado:\"\n",
    ")\n",
    "print(melhor_individuo_ja_visto)\n"
   ]
  },
  {
   "cell_type": "markdown",
   "metadata": {},
   "source": [
    "## Conclusão\n",
    "\n"
   ]
  },
  {
   "cell_type": "markdown",
   "metadata": {},
   "source": [
    "<p style = \"text-align:justify\">\n",
    "Gostei muito da minha resolução desse problema. Depois de resolvê-lo, algumas coisas ficaram bem evidentes:\n",
    "</p> \n",
    "\n",
    "1. O problema é bem simples, literalmente um problema de caixas binárias.\n",
    "2. Sempre é preciso tentar reaproveitar códigos já trabalhados anteriormente, e assim também dividir bastante o problema em diversos algoritmos.\n",
    "\n",
    "\n",
    "<p style = \"text-align:justify\">\n",
    "A função de Himmelblau é uma função de duas variáveis muito útil para usar como modelo para testar algoritmos genéticos que precisam encontrar o mínimo global. Apesar de não ter possibilitado valores negativos, isso não é um problema. Existe um resultado para cada quadrante do plano cartesiano, e no nosso caso, apenas os pontos bem comportados (3,2) será o encontrado. Se eu quisesse introduzir valores negativos, acho interessante apenas adicionar um condicional na geração que possa dar 50% de chances do float gerado ser negativo ou positivo, o que é bastante fácil.\n",
    "</p>"
   ]
  },
  {
   "cell_type": "markdown",
   "metadata": {},
   "source": [
    "## Playground\n",
    "\n"
   ]
  },
  {
   "cell_type": "markdown",
   "metadata": {},
   "source": [
    "Todo código de teste que não faz parte do seu experimento deve vir aqui. Este código não será considerado na avaliação.\n",
    "\n"
   ]
  },
  {
   "cell_type": "code",
   "execution_count": 5,
   "metadata": {},
   "outputs": [],
   "source": [
    "### CONSTANTES\n",
    "\n",
    "# relacionadas à busca\n",
    "TAMANHO_POP = 50\n",
    "NUM_GERACOES = 2000\n",
    "CHANCE_CRUZAMENTO = 0.5\n",
    "CHANCE_MUTACAO = 0.05\n",
    "NUM_COMBATENTES_NO_TORNEIO = 3"
   ]
  },
  {
   "cell_type": "code",
   "execution_count": 6,
   "metadata": {},
   "outputs": [],
   "source": [
    "# funções locais\n",
    "\n",
    "def cria_populacao_inicial(tamanho, tamanho_senha):\n",
    "    return populacao_inicial_senha(tamanho, tamanho_senha, LETRAS_POSSIVEIS)\n",
    "\n",
    "def funcao_objetivo_pop(populacao):\n",
    "    return funcao_objetivo_pop_senha(populacao, SENHA)\n",
    "\n",
    "def funcao_selecao(populacao, fitness):\n",
    "    return selecao_torneio_min(populacao, fitness, NUM_COMBATENTES_NO_TORNEIO)\n",
    "\n",
    "def funcao_mutacao(individuo):\n",
    "    return mutacao_senha(individuo, LETRAS_POSSIVEIS)"
   ]
  },
  {
   "cell_type": "code",
   "execution_count": null,
   "metadata": {},
   "outputs": [],
   "source": []
  }
 ],
 "metadata": {
  "kernelspec": {
   "display_name": "ilumpy",
   "language": "python",
   "name": "ilumpy"
  },
  "language_info": {
   "codemirror_mode": {
    "name": "ipython",
    "version": 3
   },
   "file_extension": ".py",
   "mimetype": "text/x-python",
   "name": "python",
   "nbconvert_exporter": "python",
   "pygments_lexer": "ipython3",
   "version": "3.9.7"
  },
  "org": null
 },
 "nbformat": 4,
 "nbformat_minor": 4
}
