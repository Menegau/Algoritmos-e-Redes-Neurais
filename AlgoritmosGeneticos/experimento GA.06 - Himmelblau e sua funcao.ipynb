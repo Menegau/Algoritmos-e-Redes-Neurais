{
 "cells": [
  {
   "cell_type": "markdown",
   "metadata": {},
   "source": [
    "experimento GA.06 - Himmelblau e sua funcao\n",
    "========================================\n",
    "\n"
   ]
  },
  {
   "cell_type": "markdown",
   "metadata": {},
   "source": [
    "## Introdução\n",
    "\n"
   ]
  },
  {
   "cell_type": "markdown",
   "metadata": {},
   "source": [
    "Delete este texto e escreva uma breve introdução sobre seu experimento.\n",
    "\n"
   ]
  },
  {
   "cell_type": "markdown",
   "metadata": {},
   "source": [
    "## Objetivo\n",
    "\n"
   ]
  },
  {
   "cell_type": "markdown",
   "metadata": {},
   "source": [
    "Delete este texto e escreva seu objetivo.\n",
    "\n"
   ]
  },
  {
   "cell_type": "markdown",
   "metadata": {},
   "source": [
    "## Importações\n",
    "\n"
   ]
  },
  {
   "cell_type": "markdown",
   "metadata": {},
   "source": [
    "Todos os comandos de `import` devem estar dentro desta seção.\n",
    "\n"
   ]
  },
  {
   "cell_type": "code",
   "execution_count": 1,
   "metadata": {},
   "outputs": [],
   "source": [
    "import random\n",
    "\n",
    "from funcoes import Himmelblau as him\n",
    "from funcoes import funcao_objetivo_himmelblau as foh\n",
    "from funcoes import gene_him as gene\n",
    "from funcoes import individuo_him\n",
    "from funcoes import populacao_him\n",
    "from funcoes import selecao_torneio_min_him as selecao\n",
    "from funcoes import funcao_mutacao_him as mutacao\n",
    "from funcoes import cruzamento_him as funcao_cruzamento"
   ]
  },
  {
   "cell_type": "markdown",
   "metadata": {},
   "source": [
    "## Códigos e discussão\n",
    "\n"
   ]
  },
  {
   "cell_type": "markdown",
   "metadata": {},
   "source": [
    "-   Use células de código para o código.\n",
    "\n",
    "-   Use células de texto para a discussão.\n",
    "\n",
    "-   A discussão não deve ser feita em comentários dentro das células de código. Toda discussão deve acontecer após o resultado sendo discutido foi apresentado. Exemplo: não discuta um gráfico antes de apresentá-lo.\n",
    "\n"
   ]
  },
  {
   "cell_type": "code",
   "execution_count": 2,
   "metadata": {},
   "outputs": [],
   "source": [
    "TAMANHO_POP = 100\n",
    "NUMERO_VARIAVEIS = 2\n",
    "NUM_GERACOES = 1000\n",
    "CHANCE_CRUZAMENTO = 0.5\n",
    "CHANCE_MUTACAO = 0.05"
   ]
  },
  {
   "cell_type": "code",
   "execution_count": 3,
   "metadata": {},
   "outputs": [],
   "source": [
    "#funções locais\n",
    "def funcao_objetivo(populacao):\n",
    "    fitnesss = []\n",
    "    for i in populacao:\n",
    "        individuo = foh(i)\n",
    "        fitnesss.append(individuo)\n",
    "    return fitnesss"
   ]
  },
  {
   "cell_type": "code",
   "execution_count": 16,
   "metadata": {
    "tags": []
   },
   "outputs": [
    {
     "name": "stdout",
     "output_type": "stream",
     "text": [
      "[3.071872312819135, 1.8541559612851455] - fitness: 0.3247512254226955\n",
      "[3.071872312819135, 1.9299079652696927] - fitness: 0.17562717421699295\n",
      "[2.97018279615071, 1.9299079652696927] - fitness: 0.154747950984191\n",
      "[2.97018279615071, 1.9857423808789398] - fitness: 0.044475688226549764\n",
      "[2.97018279615071, 2.040136896635165] - fitness: 0.036524372806878466\n",
      "[2.97018279615071, 2.030695452247999] - fitness: 0.030521290980873837\n",
      "[3.008427072639429, 2.030695452247999] - fitness: 0.02407830179476859\n",
      "[3.008427072639429, 2.0296621954702356] - fitness: 0.022820052159421133\n",
      "[2.9801823885208845, 2.0296621954702356] - fitness: 0.017836739990828417\n",
      "[2.9801823885208845, 2.007173173219179] - fitness: 0.012476224737680347\n",
      "[2.989862336065409, 2.0124407002378697] - fitness: 0.003913641965563087\n",
      "[2.9995511213451174, 2.0124407002378697] - fitness: 0.0025421679054196916\n",
      "[2.9995511213451174, 1.9947312728520095] - fitness: 0.0005254694302936746\n",
      "[2.9995511213451174, 1.9973938597566254] - fitness: 0.00014616566523492216\n",
      "\n",
      "Melhor palpite de valores de x e y para o mínimo global encontrado:\n",
      "[8.591483848093391, 1.9973938597566254]\n"
     ]
    }
   ],
   "source": [
    "populacao = populacao_him(TAMANHO_POP, NUMERO_VARIAVEIS)\n",
    "#print(populacao)\n",
    "melhor_fitness_ja_visto = float(\"inf\")\n",
    "\n",
    "#print(\"Progresso do melhor candidato para o mínimo global da função:\")\n",
    "\n",
    "for n in range(NUM_GERACOES):\n",
    "\n",
    "    #Seleção\n",
    "\n",
    "    fitness = funcao_objetivo(populacao)\n",
    "    \n",
    "    #print(par_populacao_fitness)\n",
    "\n",
    "    populacao = selecao(populacao, fitness)\n",
    "    \n",
    "    # Cruzamento\n",
    "    pais = populacao[0::2]\n",
    "    maes = populacao[1::2]\n",
    "    \n",
    "    contador = 0\n",
    "    \n",
    "    for pai, mae in zip(pais, maes):\n",
    "        if random.random() <= CHANCE_CRUZAMENTO:\n",
    "            filho1, filho2 = funcao_cruzamento(pai, mae)\n",
    "            populacao[contador] = filho1\n",
    "            populacao[contador + 1] = filho2\n",
    "        \n",
    "        contador = contador + 2   \n",
    "\n",
    "                \n",
    "    # Mutação\n",
    "    for n in range(len(populacao)):\n",
    "        if random.random() <= CHANCE_MUTACAO:\n",
    "            individuo = populacao[n]\n",
    "            populacao[n] = mutacao(individuo)            \n",
    "            \n",
    "    # melhor individuo já visto até agora\n",
    "    fitness = funcao_objetivo(populacao)\n",
    "    menor_fitness = min(fitness)\n",
    "    if menor_fitness < melhor_fitness_ja_visto:        \n",
    "        posicao = fitness.index(menor_fitness)\n",
    "        melhor_individuo_ja_visto = populacao[posicao]\n",
    "        melhor_fitness_ja_visto = menor_fitness\n",
    "        #print(melhor_individuo_ja_visto)\n",
    "        print((melhor_individuo_ja_visto), \"- fitness:\", melhor_fitness_ja_visto)\n",
    "\n",
    "print()\n",
    "print(\"Melhor palpite de valores de x e y para o mínimo global encontrado:\")\n",
    "print(melhor_individuo_ja_visto)\n",
    "\n",
    "            "
   ]
  },
  {
   "cell_type": "code",
   "execution_count": null,
   "metadata": {},
   "outputs": [],
   "source": []
  },
  {
   "cell_type": "markdown",
   "metadata": {},
   "source": [
    "## Conclusão\n",
    "\n"
   ]
  },
  {
   "cell_type": "markdown",
   "metadata": {},
   "source": [
    "Delete este texto e escreva sua conclusão.\n",
    "\n"
   ]
  },
  {
   "cell_type": "markdown",
   "metadata": {},
   "source": [
    "## Referências consultadas\n",
    "\n"
   ]
  },
  {
   "cell_type": "markdown",
   "metadata": {},
   "source": [
    "1.  Delete este texto e inclua suas referências ordenadas numericamente. Se for referenciar no notebook, use o número entre colchetes (exemplo: para citar essa referência aqui escreva &ldquo;[1]&rdquo; sem as áspas).\n",
    "\n",
    "2.  Cada item deve ser numerado. Siga o padrão apresentado.\n",
    "\n",
    "3.  Caso não tenha nenhuma referência consultada, delete esta seção e o texto contido nela!\n",
    "\n"
   ]
  },
  {
   "cell_type": "markdown",
   "metadata": {},
   "source": [
    "## Playground\n",
    "\n"
   ]
  },
  {
   "cell_type": "markdown",
   "metadata": {},
   "source": [
    "Todo código de teste que não faz parte do seu experimento deve vir aqui. Este código não será considerado na avaliação.\n",
    "\n"
   ]
  },
  {
   "cell_type": "code",
   "execution_count": 5,
   "metadata": {},
   "outputs": [],
   "source": [
    "### CONSTANTES\n",
    "\n",
    "# relacionadas à busca\n",
    "TAMANHO_POP = 50\n",
    "NUM_GERACOES = 2000\n",
    "CHANCE_CRUZAMENTO = 0.5\n",
    "CHANCE_MUTACAO = 0.05\n",
    "NUM_COMBATENTES_NO_TORNEIO = 3"
   ]
  },
  {
   "cell_type": "code",
   "execution_count": 6,
   "metadata": {},
   "outputs": [],
   "source": [
    "# funções locais\n",
    "\n",
    "def cria_populacao_inicial(tamanho, tamanho_senha):\n",
    "    return populacao_inicial_senha(tamanho, tamanho_senha, LETRAS_POSSIVEIS)\n",
    "\n",
    "def funcao_objetivo_pop(populacao):\n",
    "    return funcao_objetivo_pop_senha(populacao, SENHA)\n",
    "\n",
    "def funcao_selecao(populacao, fitness):\n",
    "    return selecao_torneio_min(populacao, fitness, NUM_COMBATENTES_NO_TORNEIO)\n",
    "\n",
    "def funcao_mutacao(individuo):\n",
    "    return mutacao_senha(individuo, LETRAS_POSSIVEIS)"
   ]
  },
  {
   "cell_type": "code",
   "execution_count": null,
   "metadata": {},
   "outputs": [],
   "source": []
  }
 ],
 "metadata": {
  "kernelspec": {
   "display_name": "ilumpy",
   "language": "python",
   "name": "ilumpy"
  },
  "language_info": {
   "codemirror_mode": {
    "name": "ipython",
    "version": 3
   },
   "file_extension": ".py",
   "mimetype": "text/x-python",
   "name": "python",
   "nbconvert_exporter": "python",
   "pygments_lexer": "ipython3",
   "version": "3.9.7"
  },
  "org": null
 },
 "nbformat": 4,
 "nbformat_minor": 4
}
