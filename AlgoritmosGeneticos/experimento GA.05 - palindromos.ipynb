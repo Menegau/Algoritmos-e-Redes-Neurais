{
 "cells": [
  {
   "cell_type": "markdown",
   "metadata": {},
   "source": [
    "experimento GA.05 - palindromos\n",
    "==============================="
   ]
  },
  {
   "cell_type": "markdown",
   "metadata": {},
   "source": [
    "## Introdução\n",
    "\n"
   ]
  },
  {
   "cell_type": "markdown",
   "metadata": {},
   "source": [
    "Neste experimento, estaremos testando ao extremo o uso de algoritmos genéticos. Encontrar palíndromos que contenham vogais é uma tarefa trivial, difícil é fazê-lo com algoritmo genéticos. Sem mais delongas, vamos ao experimento!\n"
   ]
  },
  {
   "cell_type": "markdown",
   "metadata": {},
   "source": [
    "## Objetivo\n",
    "\n"
   ]
  },
  {
   "cell_type": "markdown",
   "metadata": {},
   "source": [
    "Encontrar pelo menos 10 palíndromos de 5 letras. Estes palíndromos devem ter pelo menos uma vogal. Não é necessário que eles formem palavras válidas em português ou qualquer outro idioma.\n",
    "\n"
   ]
  },
  {
   "cell_type": "markdown",
   "metadata": {},
   "source": [
    "## Importações\n",
    "\n"
   ]
  },
  {
   "cell_type": "markdown",
   "metadata": {},
   "source": [
    "Todos os comandos de `import` estão dentro dessa seção.\n",
    "\n"
   ]
  },
  {
   "cell_type": "code",
   "execution_count": 1,
   "metadata": {},
   "outputs": [],
   "source": [
    "from funcoes import individuo_palindromo\n",
    "from funcoes import populacao_inicial_palindromo\n",
    "from funcoes import funcao_objetivo_pop_palindromo\n",
    "from funcoes import selecao_torneio_min\n",
    "from funcoes import cruzamento_ponto_simples as funcao_cruzamento\n",
    "from funcoes import mutacao_palindromo\n",
    "\n",
    "import random"
   ]
  },
  {
   "cell_type": "markdown",
   "metadata": {},
   "source": [
    "## Códigos e discussão\n",
    "\n"
   ]
  },
  {
   "cell_type": "markdown",
   "metadata": {},
   "source": [
    "-   Use células de código para o código.\n",
    "\n",
    "-   Use células de texto para a discussão.\n",
    "\n",
    "-   A discussão não deve ser feita em comentários dentro das células de código. Toda discussão deve acontecer após o resultado sendo discutido foi apresentado. Exemplo: não discuta um gráfico antes de apresentá-lo.\n",
    "\n"
   ]
  },
  {
   "cell_type": "code",
   "execution_count": 2,
   "metadata": {},
   "outputs": [],
   "source": [
    "### CONSTANTES\n",
    "\n",
    "# relacionadas ao algoritmo genético.\n",
    "TAMANHO_POP = 30\n",
    "CHANCE_CRUZAMENTO = 0.5\n",
    "CHANCE_MUTACAO = 0.05\n",
    "NUM_COMBATENTES_NO_TORNEIO = 3\n",
    "\n",
    "# relacionadas ao problema a ser resolvido\n",
    "LETRAS_POSSIVEIS = \"abcdefghijklmnopqrstuvwxyz\"\n",
    "NUM_GENES = 5\n",
    "NUMERO_DE_PALINDROMOS = 10"
   ]
  },
  {
   "cell_type": "markdown",
   "metadata": {},
   "source": [
    "A definição das constantes é um passo fundamental para qualquer código de algoritmos genéticos, como já foi bastante discutido nas aulas.\n",
    "\n",
    "**Relacionadas ao algoritmo genético**\n",
    "  \n",
    "TAMANHO_POP: Tamanho da população que será gerada para o algoritmo genético.\n",
    "CHANCE_CRUZAMENTO: As chances de um par formado para o cruzamento trocarem seus genes para a próxima geração.  \n",
    "CHANCE_MUTACAO: As chances de um dos indivíduos ser aleatorizado a cada geração.  \n",
    "NUM_COMBATENTES_NO_TORNEIO: Quantidade de indivíduos que serão comparados para a seleção.\n",
    "\n",
    "**Relacionadas ao problema de palíndromos:**\n",
    "\n",
    "\n",
    "LETRAS_POSSIVEIS: As letras que serão utilizadas para gerar os genes dos indivíduos.  \n",
    "NUM_GENES: Quantidade de genes em cada indivíduo, e consequentemente, tamanho dos palíndromos.  \n",
    "NUMERO_DE_PALINDROMOS: Quantidade de palíndromos que planejamos buscar.\n"
   ]
  },
  {
   "cell_type": "code",
   "execution_count": 3,
   "metadata": {},
   "outputs": [],
   "source": [
    "# funções locais\n",
    "\n",
    "def populacao(tamanho, tamanho_palavra):\n",
    "    return populacao_inicial_palindromo(tamanho, tamanho_palavra, LETRAS_POSSIVEIS)\n",
    "\n",
    "def funcao_objetivo_pop(populacao):\n",
    "    return funcao_objetivo_pop_palindromo(populacao)\n",
    "\n",
    "def funcao_selecao(populacao, fitness):\n",
    "    return selecao_torneio_min(populacao, fitness, NUM_COMBATENTES_NO_TORNEIO)\n",
    "\n",
    "def funcao_mutacao(individuo):\n",
    "    return mutacao_palindromo(individuo, LETRAS_POSSIVEIS)"
   ]
  },
  {
   "cell_type": "markdown",
   "metadata": {},
   "source": [
    "Aqui estamos definindo as funções locais, de maneira a adaptar funções para nossos problemas para simplificar o código."
   ]
  },
  {
   "cell_type": "code",
   "execution_count": 4,
   "metadata": {},
   "outputs": [],
   "source": [
    "lista_de_palindromos = []"
   ]
  },
  {
   "cell_type": "markdown",
   "metadata": {},
   "source": [
    "Esta lista conterá todos os palíndromos encontrados.  \n",
    "\n",
    "(A discussão na próxima célula será feita de maneira mista com comentários em cada linha.)"
   ]
  },
  {
   "cell_type": "code",
   "execution_count": 5,
   "metadata": {},
   "outputs": [
    {
     "name": "stdout",
     "output_type": "stream",
     "text": [
      "husve - fitness: 8\n",
      "husvh - fitness: 2\n",
      "huxuh - fitness: 0\n",
      "eureka!\n",
      "ohxin - fitness: 4\n",
      "oujvo - fitness: 2\n",
      "otlto - fitness: 0\n",
      "eureka!\n",
      "pivir - fitness: 4\n",
      "qisir - fitness: 2\n",
      "pivip - fitness: 0\n",
      "eureka!\n",
      "esupe - fitness: 6\n",
      "eqppe - fitness: 2\n",
      "eqpqe - fitness: 0\n",
      "eureka!\n",
      "smeps - fitness: 6\n",
      "smeks - fitness: 4\n",
      "siehs - fitness: 2\n",
      "siais - fitness: 0\n",
      "eureka!\n",
      "snbku - fitness: 10\n",
      "snbpu - fitness: 8\n",
      "vnbpu - fitness: 6\n",
      "unbpu - fitness: 4\n",
      "upbpu - fitness: 0\n",
      "eureka!\n",
      "atytd - fitness: 6\n",
      "etytd - fitness: 2\n",
      "etfte - fitness: 0\n",
      "eureka!\n",
      "kufql - fitness: 10\n",
      "tbwdu - fitness: 6\n",
      "ubwdu - fitness: 4\n",
      "tbwbu - fitness: 2\n",
      "ububu - fitness: 0\n",
      "eureka!\n",
      "ynenz - fitness: 2\n",
      "znenz - fitness: 0\n",
      "eureka!\n",
      "ttoqt - fitness: 6\n",
      "ttovt - fitness: 4\n",
      "twovt - fitness: 2\n",
      "twowt - fitness: 0\n",
      "eureka!\n"
     ]
    }
   ],
   "source": [
    "while not len(lista_de_palindromos) >= NUMERO_DE_PALINDROMOS: # Primeiro loop while\n",
    "    pop = populacao(TAMANHO_POP, NUM_GENES) # Cria a população\n",
    "    melhor_fitness_ja_visto = float(\"inf\")  # é assim que escrevemos infinito em python\n",
    "    \n",
    "    while True: # Segundo loop while\n",
    "        \n",
    "        # Seleção\n",
    "        fitness = funcao_objetivo_pop(pop) # cria uma lista de fitness\n",
    "        pop = funcao_selecao(pop, fitness) # aplica a selecao na lista de população baseado no fitness\n",
    "\n",
    "        # Cruzamento\n",
    "        pais = pop[0::2] # Define os pais como os elementos em posições pares na lista.\n",
    "        maes = pop[1::2] # Define as mães como os elementos em posições ímpares na lista.\n",
    "\n",
    "        contador = 0 # Cria o contador (+ na célula de comentário)\n",
    "\n",
    "        for pai, mae in zip(pais, maes): # Iterando para cada casal\n",
    "            if random.random() <= CHANCE_CRUZAMENTO: # Aplicando chances de cruzamento\n",
    "                filho1, filho2 = funcao_cruzamento(pai, mae)\n",
    "                pop[contador] = filho1\n",
    "                pop[contador + 1] = filho2\n",
    "            contador = contador + 2 # Alterando o contador para pareá-lo com os próximos casais.\n",
    "            \n",
    "        # Mutação\n",
    "        for n in range(len(pop)):\n",
    "            if random.random() <= CHANCE_MUTACAO: #Aplicando chances de mutação\n",
    "                individuo = pop[n] #Posição do indivíduo a ser mutado\n",
    "                pop[n] = funcao_mutacao(individuo)\n",
    "                \n",
    "        # melhor individuo já visto até agora\n",
    "        fitness = funcao_objetivo_pop(pop)\n",
    "        menor_fitness = min(fitness)\n",
    "        \n",
    "        if menor_fitness < melhor_fitness_ja_visto: # Atualizará qual é o melhor fitness da geração\n",
    "            posicao = fitness.index(menor_fitness)\n",
    "            melhor_individuo_ja_visto = pop[posicao]\n",
    "            melhor_fitness_ja_visto = menor_fitness\n",
    "            print(\n",
    "                \"\".join(melhor_individuo_ja_visto),\n",
    "                \"- fitness:\",\n",
    "                melhor_fitness_ja_visto, \n",
    "            )\n",
    "        if menor_fitness == 0: # Se tem fitness 0, é um palíndromo com vogais\n",
    "            print(\"eureka!\")\n",
    "            posicao = fitness.index(menor_fitness)\n",
    "            melhor_individuo_ja_visto = pop[posicao]\n",
    "            lista_de_palindromos.append(melhor_individuo_ja_visto) # Adiciona à lista de palíndromos\n",
    "            break #Sai do loop"
   ]
  },
  {
   "cell_type": "markdown",
   "metadata": {},
   "source": [
    "<p style = \"text-align:justify\">\n",
    "A primeira parte importante de ser comentada é que o código rodará em dois loops while. O primeiro serve para definir quantas vezes o código que achará um único palíndromo deverá rodar, sendo assim definido como o número de palindromos que queremos encontrar na lista. O segundo loop while é o código de algoritmos genéticos em si. Percebe-se que não tem um critério de parada numérico nesse loop, o que distoa de um código de algoritmos genéticos convencional, no qual esse número seria a quantidade de gerações. No entanto, quando a condição de palíndromo é encontrada, o comando break serve para parar o segundo loop, retornando então ao primeiro que irá o chamar novamente.  \n",
    "</p>\n",
    "<p style = \"text-align:justify\">\n",
    "Dessa maneira, estamos repetindo o código várias vezes. \"Por que?\" você pode se perguntar. A resposta é que como dito na introdução, algoritmos genéticos não são ideais para resolver esse tipo de problema. Ficou evidente após minhas primeiras tentativas que o código tenderia a sempre trazer apenas o mesmo palíndromo, pois a população inteira converge para esse que teria o menor fitness. No entanto, queremos 10 palíndromos diferentes. A solução mais óbvia, e foi o que eu fiz, é repetir o código 10 vezes, pois assim 10 palíndromos serão encontrados, em 10 populações diferentes.\n",
    "</p>\n",
    "<p style = \"text-align:justify\">\n",
    "    A variável `contador` serve para definir o local de onde serão colocados os filhos gerados por cruzamento."
   ]
  },
  {
   "cell_type": "code",
   "execution_count": 6,
   "metadata": {},
   "outputs": [
    {
     "name": "stdout",
     "output_type": "stream",
     "text": [
      "Lista de palíndromos final:\n",
      "huxuh\n",
      "otlto\n",
      "pivip\n",
      "eqpqe\n",
      "siais\n",
      "upbpu\n",
      "etfte\n",
      "ububu\n",
      "znenz\n",
      "twowt\n"
     ]
    }
   ],
   "source": [
    "print(\"Lista de palíndromos final:\")\n",
    "for palindromos in lista_de_palindromos:\n",
    "    print(\"\".join(palindromos))"
   ]
  },
  {
   "cell_type": "markdown",
   "metadata": {},
   "source": [
    "Acima, os palíndromos encontrados por algoritmo genético. O código funciona perfeitamente!"
   ]
  },
  {
   "cell_type": "markdown",
   "metadata": {},
   "source": [
    "## Conclusão\n",
    "\n"
   ]
  },
  {
   "cell_type": "markdown",
   "metadata": {},
   "source": [
    "<p style = \"text-align:justify\">\n",
    "    O código de algoritmos genéticos conseguiu ser implementado para o problema de palíndromos, mesmo que tenha sido, de certa forma, usar um canhão para matar uma formiga. Apesar disso, serviu como um experimento para testar meu aprendizado, e me diverti testando o código e fazendo ele funcionar. Também aprendi como funciona algumas funções muito interessantes, como a any() que retorna True para listas que apresentam o valor procurado.\n",
    "</p>"
   ]
  },
  {
   "cell_type": "markdown",
   "metadata": {},
   "source": [
    "## Playground\n",
    "\n"
   ]
  },
  {
   "cell_type": "markdown",
   "metadata": {},
   "source": [
    "Todo código de teste que não faz parte do seu experimento deve vir aqui. Este código não será considerado na avaliação.\n",
    "\n"
   ]
  },
  {
   "cell_type": "markdown",
   "metadata": {},
   "source": [
    "from funcoes import funcao_objetivo_palindromo\n",
    "from funcoes import funcao_objetivo_pop_palindromo\n",
    "\n",
    "len(pop)\n",
    "\n",
    "#funcao_objetivo_palindromo(pop[1])\n",
    "print(funcao_objetivo_pop_palindromo(pop))"
   ]
  },
  {
   "cell_type": "markdown",
   "metadata": {},
   "source": [
    "def checagem_cond_vogal(individuo):\n",
    "    \"\"\" Checa se o indivíduo preenche o pré requisito de ter ao menos uma vogal.\n",
    "    Args:\n",
    "    individuo: Individuo a ser checado.\n",
    "    tamanho_palavra: tamanho da palavra que será regerada se não atender à condição necessária.\n",
    "    letras_possiveis: o alfabeto para a regeração.\n",
    "    Return:\n",
    "    Apenas indivíduos true passarão!\n",
    "    \"\"\"\n",
    "    \n",
    "    VOGAIS = \"aiueo\"\n",
    "    \n",
    "    if any(letras in individuo for letras in VOGAIS) == True:\n",
    "        pass\n",
    "    else:\n",
    "        return False\n",
    "    \n",
    "def checagem_cond_palindromo(individuo):\n",
    "    \"\"\"Defenestra qualquer cosia que não seja palíndromo.\n",
    "    Args:\n",
    "    individuo: individuo a ser checado\n",
    "    Return:\n",
    "    Apenas indivíduos com todos os aspectos True passarão!\n",
    "    \"\"\"\n",
    "    if individuo == individuo[::-1]:\n",
    "        return True\n",
    "    else:\n",
    "        return False  \n",
    "    \n",
    "def checa_repeticao(individuo,lista):\n",
    "    \"\"\" Compara um individuo com uma lista, se ele já estiver nela, retornará False.\n",
    "    Args:\n",
    "    individuo: individuo a ser checado\n",
    "    Return:\n",
    "    Apenas originais passarão!\n",
    "    \"\"\"\n",
    "    \n",
    "    if any(individuo for individuos_da_lista in lista) == True:\n",
    "        return False\n",
    "    else:\n",
    "        return True\n",
    "            \n",
    "    "
   ]
  },
  {
   "cell_type": "markdown",
   "metadata": {},
   "source": [
    "pop = populacao_inicial(TAMANHO_POP, NUM_GENES)\n",
    "#print(pop)\n",
    "\n",
    "melhor_fitness_ja_visto = float(\"inf\")  # é assim que escrevemos infinito em python\n",
    "\n",
    "#for n in range(NUM_GERACOES):    \n",
    "\n",
    "lista_de_palindromos = []\n",
    "#conjuntos_de_palindromos = set()\n",
    "\n",
    "while melhor_fitness_ja_visto == 0:\n",
    "\n",
    "        # Seleção\n",
    "    fitness = funcao_objetivo_pop(pop)\n",
    "    pop = funcao_selecao(pop, fitness)\n",
    "    #print(pop)\n",
    "\n",
    "        # Cruzamento\n",
    "    pais = pop[0::2]\n",
    "    maes = pop[1::2]\n",
    "\n",
    "    contador = 0\n",
    "\n",
    "    for pai, mae in zip(pais, maes):\n",
    "        if random.random() <= CHANCE_CRUZAMENTO:\n",
    "            filho1, filho2 = funcao_cruzamento(pai, mae)\n",
    "            pop[contador] = filho1\n",
    "            pop[contador + 1] = filho2\n",
    "\n",
    "        contador = contador + 2\n",
    "\n",
    "    # Mutação\n",
    "    for n in range(len(pop)):\n",
    "        if random.random() <= CHANCE_MUTACAO:\n",
    "            individuo = pop[n]\n",
    "            pop[n] = funcao_mutacao(individuo)            \n",
    "\n",
    "    # melhor individuo já visto até agora\n",
    "    fitness = funcao_objetivo_pop(pop)\n",
    "    menor_fitness = min(fitness)\n",
    "    if menor_fitness < melhor_fitness_ja_visto:        \n",
    "        posicao = fitness.index(menor_fitness)\n",
    "        melhor_individuo_ja_visto = pop[posicao]\n",
    "        melhor_fitness_ja_visto = menor_fitness\n",
    "        #print(\"\".join(melhor_individuo_ja_visto), \"- fitness:\", melhor_fitness_ja_visto)\n",
    "    #Checagem de vogal\n",
    "    if melhor_fitness_ja_visto == 0:\n",
    "        for procurando_os_casos_0 in fitness:\n",
    "            if procurando_os_casos_0 == 0:\n",
    "                encontrado = fitness.index(procurando_os_casos_0)\n",
    "                candidato = pop[encontrado]\n",
    "\n",
    "                if checagem_cond_vogal(candidato) == True and checagem_cond_palindromo(candidato) == True:\n",
    "\n",
    "                    #Checagem de repeticao\n",
    "\n",
    "                    #if checa_repeticao(candidato,lista_de_palindromos) == True:\n",
    "\n",
    "                    print(\"\".join(candidato), \"foi encontrado eeee\")\n",
    "                    lista_de_palindromos.append(candidato)\n",
    "                        #conjuntos_de_palindromos.add(candidato)\n",
    "                    print(encontrado)\n",
    "                    pop.pop(encontrado)\n",
    "                    pop.insert(encontrado, individuo_palindromo(NUM_GENES, LETRAS_POSSIVEIS))\n",
    "                    #    break\n",
    "\n",
    "\n",
    "\n",
    "                  #  else:\n",
    "                        #print(\"putz\", \"\".join(candidato), \"tá repetido\")\n",
    "                 #       contador_de_repeticao = contador_de_repeticao + 1\n",
    "                  #      pop.pop(encontrado)\n",
    "                   #     pop.insert(encontrado, individuo_palindromo(NUM_GENES, LETRAS_POSSIVEIS))\n",
    "                    #    break\n",
    "                else:\n",
    "                    #print(\"\".join(candidato), \"foi desclassificado e vai ser destruído\")\n",
    "                    pop.pop(encontrado)\n",
    "                    pop.insert(encontrado, individuo_palindromo(NUM_GENES, LETRAS_POSSIVEIS))\n",
    "\n",
    "\n",
    "print()\n",
    "print(\"Lista de palíndromos uhull:\")\n",
    "for palindromos in lista_de_palindromos:\n",
    "    print(\"\".join(palindromos))\n"
   ]
  },
  {
   "cell_type": "code",
   "execution_count": null,
   "metadata": {},
   "outputs": [],
   "source": []
  }
 ],
 "metadata": {
  "kernelspec": {
   "display_name": "ilumpy",
   "language": "python",
   "name": "ilumpy"
  },
  "language_info": {
   "codemirror_mode": {
    "name": "ipython",
    "version": 3
   },
   "file_extension": ".py",
   "mimetype": "text/x-python",
   "name": "python",
   "nbconvert_exporter": "python",
   "pygments_lexer": "ipython3",
   "version": "3.9.7"
  },
  "org": null
 },
 "nbformat": 4,
 "nbformat_minor": 4
}
